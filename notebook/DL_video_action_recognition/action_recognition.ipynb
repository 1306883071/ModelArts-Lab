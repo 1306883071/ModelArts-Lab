{
 "cells": [
  {
   "cell_type": "markdown",
   "metadata": {},
   "source": [
    "# 视频动作识别\n",
    "视频动作识别是指对一小段视频中的内容进行分析，判断视频中的人物做了哪种动作。视频动作识别与图像领域的图像识别，既有联系又有区别，图像识别是对一张静态图片进行识别，而视频动作识别不仅要考察每张图片的静态内容，还要考察不同图片静态内容之间的时空关系。比如一个人扶着一扇半开的门，仅凭这一张图片无法判断该动作是开门动作还是关门动作。\n",
    "\n",
    "视频分析领域的研究相比较图像分析领域的研究，发展时间更短，也更有难度。视频分析模型完成的难点首先在于，需要强大的计算资源来完成视频的分析。视频要拆解成为图像进行分析，导致模型的数据量十分庞大。视频内容有很重要的考虑因素是动作的时间顺序，需要将视频转换成的图像通过时间关系联系起来，做出判断，所以模型需要考虑时序因素，加入时间维度之后参数也会大量增加。\n",
    "\n",
    "得益于PASCAL VOC、ImageNet、MS COCO等数据集的公开，图像领域产生了很多的经典模型，那么在视频分析领域有没有什么经典的数据集和模型呢？答案是有的，本案例将为大家介绍视频动作识别领域的经典数据集和经典模型。\n",
    "\n",
    "由于本案例的代码是在华为云ModelArts Notebook上运行，所以需要先按照如下步骤来进行Notebook环境的准备。\n",
    "\n",
    "### 进入ModelArts\n",
    "\n",
    "点击如下链接：https://www.huaweicloud.com/product/modelarts.html ， 进入ModelArts主页。点击“立即使用”按钮，输入用户名和密码登录，进入ModelArts使用页面。\n",
    "\n",
    "### 创建ModelArts Notebook\n",
    "\n",
    "下面，我们在ModelArts中创建一个Notebook开发环境，ModelArts Notebook提供网页版的Python开发环境，可以方便的编写、运行代码，并查看运行结果。\n",
    "\n",
    "第一步：在ModelArts服务主界面依次点击“开发环境”、“创建”\n",
    "\n",
    "![create_nb_create_button](./img/create_nb_create_button.png)\n",
    "\n",
    "第二步：填写notebook所需的参数：\n",
    "\n",
    "| 参数 | 说明 |\n",
    "| - - - - - | - - - - - |\n",
    "| 计费方式 | 按需计费  |\n",
    "| 名称 | Notebook实例名称，如 action_recognition |\n",
    "| 工作环境 | Python3 |\n",
    "| 资源池 | 选择\"公共资源池\"即可 |\n",
    "| 类型 | 本案例使用较为复杂的深度神经网络模型，需要较高算力，选择\"GPU\" |\n",
    "| 规格 | 选择\"8核 &#124; 64GiB &#124; 1*p100\" |\n",
    "| 存储配置 | 选择EVS，磁盘规格5GB |\n",
    "\n",
    "第三步：配置好Notebook参数后，点击下一步，进入Notebook信息预览。确认无误后，点击“立即创建”\n",
    "\n",
    "![create_nb_creation_summary](./img/create_nb_creation_summary.png)\n",
    "\n",
    "第四步：创建完成后，返回开发环境主界面，等待Notebook创建完毕后，打开Notebook，进行下一步操作。\n",
    "![modelarts_notebook_index](./img/modelarts_notebook_index.png)\n",
    "\n",
    "### 在ModelArts中创建开发环境\n",
    "\n",
    "接下来，我们创建一个实际的开发环境，用于后续的实验步骤。\n",
    "\n",
    "第一步：点击下图所示的“打开”按钮，进入刚刚创建的Notebook\n",
    "![enter_dev_env](img/enter_dev_env.png)\n",
    "\n",
    "第二步：创建一个Python3环境的的Notebook。点击右上角的\"New\"，然后创建TensorFlow 1.13.1开发环境。\n",
    "\n",
    "第三步：点击左上方的文件名\"Untitled\"，并输入一个与本实验相关的名称，如\"action_recognition\"\n",
    "![notebook_untitled_filename](./img/notebook_untitled_filename.png)\n",
    "![notebook_name_the_ipynb](./img/notebook_name_the_ipynb.png)\n",
    "\n",
    "\n",
    "### 在Notebook中编写并执行代码\n",
    "\n",
    "在Notebook中，我们输入一个简单的打印语句，然后点击上方的运行按钮，可以查看语句执行的结果：\n",
    "![run_helloworld](./img/run_helloworld.png)\n",
    "\n",
    "\n",
    "开发环境准备好啦，接下来可以愉快地写代码啦！"
   ]
  },
  {
   "cell_type": "markdown",
   "metadata": {},
   "source": [
    "### 准备源代码和数据\n",
    "\n",
    "这一步准备案例所需的源代码和数据，相关资源已经保存在OBS中，我们通过ModelArts SDK将资源下载到本地，并解压到当前目录下。解压后，当前目录包含data、dataset_subset和其他目录文件，分布是预训练参数文件、数据集和代码文件等。"
   ]
  },
  {
   "cell_type": "code",
   "execution_count": 1,
   "metadata": {},
   "outputs": [
    {
     "name": "stdout",
     "output_type": "stream",
     "text": [
      "Successfully download file ai-course-common-26-bj4/video/video.tar.gz from OBS to local ./video.tar.gz\n"
     ]
    }
   ],
   "source": [
    "from modelarts.session import Session\n",
    "session = Session()\n",
    "session.download_data(bucket_path=\"ai-course-common-26-bj4/video/video.tar.gz\", path=\"./video.tar.gz\")\n",
    "# 使用tar命令解压资源包\n",
    "!tar xf ./video.tar.gz\n",
    "# 使用rm命令删除压缩包\n",
    "!rm ./video.tar.gz"
   ]
  },
  {
   "cell_type": "markdown",
   "metadata": {},
   "source": [
    "## 数据集介绍\n",
    "\n",
    "在这部分我们将介绍3个视频内容的数据集：HMDB51、UCF-101和Kinetics。\n",
    "\n",
    "数据集在模型的训练过程中，起到了十分重要的作用。好的数据集可以让模型有更好的表现，所以数据集的选择和质量非常重要。\n",
    "\n",
    "### HMDB51\n",
    "HMDB51是布朗大学在2011年发布的视频数据集，视频来源于电影、公共数据库和YouTube等网络视频库。HMDB作为一个人类动作视频数据，包含6849段视频剪辑，51个人类动作类别，每类动作至少包含101段视频剪辑。[HMDB51数据集官网](https://serre-lab.clps.brown.edu/resource/hmdb-a-large-human-motion-database/)。\n",
    "\n",
    "动作主要分为五类：\n",
    "\n",
    "- 一般面部动作微笑，如：大笑，咀嚼，交谈。\n",
    "- 面部操作与对象操作：如：吸烟，吃，喝。\n",
    "-  一般的身体动作：如：侧手翻，拍手，爬。\n",
    "- 与对象交互动作：如：梳头，抓，运球。\n",
    "- 人体动作：如：击剑，拥抱，踢某人。 \n",
    "\n",
    "![image.png](./img/hmdb_1.png)\n",
    "![image.png](./img/hmdb_0.png)\n",
    "\n",
    "### UCF-101 动作识别数据集\n",
    "\n",
    "UCF-101是一种现实动作视频的动作识别数据集，来源于YouTube，一共有101个动作类别，13320个视频。UCF101在动作和表达上的多样性丰富，考虑到相机的移动，目标的表现和动作，目标的大小，视角，北京，光照条件等等，所以数据集充满了挑战性。[UCF-101数据集官网](https://www.crcv.ucf.edu/data/UCF101.php)。\n",
    "\n",
    "UCF-101的视频类别可以分为25组，每一组包括4-7种视频动作，同组视频有相同的特征，比如相似的背景，相似的视角等等。\n",
    "\n",
    "所有的视频类别可以分为5类： 1）人-对象 交互 2）只有动作 3） 人-人交互 4）乐器演奏 5）运动\n",
    "\n",
    "![image.png](./img/ucf.png)\n",
    "\n",
    "### Kinetics 数据集\n",
    "\n",
    "ActivityNet是一项视频分类的比赛，与图像理解的ImageNet比赛类似，吸引了大量学者的关注和参与。在行为理解比赛项目下，使用的数据集为Kinetcs。数据集由Google的deepmind团队提供，2017年是第一届比赛，有400个类别，20多万数据，2018年又对数据集进行了扩增，有600个类别，共50万左右的视频，截止到2020年2月，现在的Kinetics最新版本为Kinetics-700，包含了将近650,000 个视频的URL，覆盖了700个人物动作类型，所有的视频来自YouTube网站，视频至少为10秒。Kinetics数据集在视频分析领域的地位就相当于ImageNet图像分析领域的地位，是一个真正大规模的视频数据集。[Kinetics-700数据集官网](https://deepmind.com/research/open-source/kinetics)。\n",
    "\n",
    "由于Kinetics数据集太大，所以本案例选用了UCF-101数据集的部分子集作为演示用数据集，接下来，我们播放一段UCF-101中的视频："
   ]
  },
  {
   "cell_type": "code",
   "execution_count": 2,
   "metadata": {},
   "outputs": [],
   "source": [
    "video_name = \"./data/v_TaiChi_g01_c01.avi\""
   ]
  },
  {
   "cell_type": "code",
   "execution_count": 3,
   "metadata": {},
   "outputs": [
    {
     "data": {
      "image/png": "[encoded data removed]",
      "text/plain": [
       "<IPython.core.display.Image object>"
      ]
     },
     "metadata": {},
     "output_type": "display_data"
    }
   ],
   "source": [
    "from IPython.display import clear_output, Image, display, HTML\n",
    "import time\n",
    "import cv2\n",
    "import base64\n",
    "import numpy as np\n",
    "\n",
    "def arrayShow(img):\n",
    "    _,ret = cv2.imencode('.jpg', img) \n",
    "    return Image(data=ret) \n",
    "\n",
    "cap = cv2.VideoCapture(video_name)\n",
    "\n",
    "while True:\n",
    "    try:\n",
    "        clear_output(wait=True)\n",
    "        ret, frame = cap.read()\n",
    "        if ret:\n",
    "            tmp = cv2.cvtColor(frame, cv2.COLOR_BGR2RGB)\n",
    "            img = arrayShow(frame)\n",
    "            display(img)\n",
    "            time.sleep(0.05)\n",
    "        else:\n",
    "            break\n",
    "    except KeyboardInterrupt:\n",
    "        cap.release()\n",
    "cap.release()"
   ]
  },
  {
   "cell_type": "markdown",
   "metadata": {},
   "source": [
    "## 视频动作识别模型介绍\n",
    "\n",
    "在图像领域中，ImageNet作为一个大型图像识别数据集，自2010年开始，使用此数据集训练出的图像算法层出不穷，深度学习模型经历了从AlexNet到VGG-16再到更加复杂的结构，模型的表现也越来越好。在识别千种类别的图片时，错误率表现如下：\n",
    "\n",
    "<img src=\"./img/ImageNet.png\" width=\"500\" height=\"500\" align=center>\n",
    "\n",
    "在图像识别中表现很好的模型，可以在图像领域的其他任务中继续使用，通过复用模型中部分层的参数，就可以提升模型的训练效果。有了基于ImageNet模型的图像模型，很多模型和任务都有了更好的训练基础，比如说物体检测、实例分割、人脸检测、人脸识别等。\n",
    "\n",
    "那么训练效果显著的图像模型是否可以用于视频模型的训练呢？答案是yes，有研究证明，在视频领域，如果能够复用图像模型结构，甚至参数，将对视频模型的训练有很大帮助。但是怎样才能复用上图像模型的结构呢？首先需要知道视频分类与图像分类的不同，如果将视频视作是图像的集合，每一个帧将作为一个图像，视频分类任务除了要考虑到图像中的表现，也要考虑图像间的时空关系，才可以对视频动作进行分类。\n",
    "\n",
    "为了捕获图像间的时空关系，论文[I3D](https://arxiv.org/pdf/1705.07750.pdf)介绍了三种旧的视频分类模型，并提出了一种更有效的Two-Stream Inflated 3D ConvNets（简称I3D）的模型，下面将逐一简介这四种模型，更多细节信息请查看原论文。\n",
    "\n",
    "### 旧模型一：卷积网络+LSTM\n",
    "\n",
    "模型使用了训练成熟的图像模型，通过卷积网络，对每一帧图像进行特征提取、池化和预测，最后在模型的末端加一个LSTM层（长短期记忆网络），如下图所示，这样就可以使模型能够考虑时间性结构，将上下文特征联系起来，做出动作判断。这种模型的缺点是只能捕获较大的工作，对小动作的识别效果较差，而且由于视频中的每一帧图像都要经过网络的计算，所以训练时间很长。\n",
    "\n",
    "<img src=\"./img/video_model_0.png\" width=\"200\" height=\"200\" align=center>\n",
    "\n",
    "### 旧模型二：3D卷积网络\n",
    "\n",
    "3D卷积类似于2D卷积，将时序信息加入卷积操作。虽然这是一种看起来更加自然的视频处理方式，但是由于卷积核维度增加，参数的数量也增加了，模型的训练变得更加困难。这种模型没有对图像模型进行复用，而是直接将视频数据传入3D卷积网络进行训练。\n",
    "\n",
    "<img src=\"./img/video_model_1.png\" width=\"150\" height=\"150\" align=center>\n",
    "\n",
    "### 旧模型三：Two-Stream 网络\n",
    "\n",
    "Two-Stream 网络的两个流分别为**1张RGB快照**和**10张计算之后的光流帧画面组成的栈**。两个流都通过ImageNet预训练好的图像卷积网络，光流部分可以分为竖直和水平两个通道，所以是普通图片输入的2倍，模型在训练和测试中表现都十分出色。\n",
    "\n",
    "<img src=\"./img/video_model_2.png\" width=\"400\" height=\"400\" align=center>\n",
    "\n",
    "#### 光流视频 optical flow video\n",
    "\n",
    "上面讲到了光流，在此对光流做一下介绍。光流是什么呢？名字很专业，感觉很陌生，但实际上这种视觉现象我们每天都在经历，我们坐高铁的时候，可以看到窗外的景物都在快速往后退，开得越快，就感受到外面的景物就是“刷”地一个残影，这种视觉上目标的运动方向和速度就是光流。光流从概念上讲，是对物体运动的观察，通过找到相邻帧之间的相关性来判断帧之间的对应关系，计算出相邻帧画面中物体的运动信息，获取像素运动的瞬时速度。在原始视频中，有运动部分和静止的背景部分，我们通常需要判断的只是视频中运动部分的状态，而光流就是通过计算得到了视频中运动部分的运动信息。\n",
    "\n",
    "下面是一个经过计算后的原视频及光流视频。\n",
    "\n",
    "原视频\n",
    "![See videos/v_CricketShot_g04_c01_rgb.gif](./img/v_CricketShot_g04_c01_rgb.gif)\n",
    "光流视频\n",
    "![See videos/v_CricketShot_g04_c01_flow.gif](./img/v_CricketShot_g04_c01_flow.gif)\n",
    "\n",
    "### 新模型：Two-Stream Inflated 3D ConvNets\n",
    "\n",
    "新模型采取了以下几点结构改进：\n",
    "   - 拓展2D卷积为3D。直接利用成熟的图像分类模型，只不过将网络中二维N * N的 filters 和 pooling kernels 直接变成N * N * N；\n",
    "   - 用 2D filter 的预训练参数来初始化 3D filter 的参数。上一步已经利用了图像分类模型的网络，这一步的目的是能利用上网络的预训练参数，直接将 2D filter 的参数直接沿着第三个时间维度进行复制N次，最后将所有参数值再除以N；\n",
    "   - 调整感受野的形状和大小。新模型改造了图像分类模型Inception-v1的结构，前两个max-pooling层改成使用 1 * 3 * 3 kernels and stride 1 in time，其他所有max-pooling层都仍然使用对此的kernel和stride，最后一个average pooling层使用 2 * 7 * 7 的kernal。\n",
    "   - 延续了Two-Stream的基本方法。用双流结构来捕获图片之间的时空关系仍然是有效的。\n",
    "\n",
    "最后新模型的整体结构如下图所示：\n",
    "\n",
    "<img src=\"./img/video_model_3.png\" width=\"200\" height=\"200\" align=center>\n",
    "\n",
    "好，到目前为止，我们已经讲解了视频动作识别的经典数据集和经典模型，下面我们通过代码来实践地跑一跑其中的两个模型：**C3D模型**（ 3D卷积网络）以及**I3D模型**（Two-Stream Inflated 3D ConvNets）。\n",
    "\n",
    "### C3D模型结构\n",
    "\n",
    "\n",
    "我们已经在前面的“旧模型二：3D卷积网络”中讲解到3D卷积网络是一种看起来比较自然的处理视频的网络，虽然它有效果不够好，计算量也大的特点，但它的结构很简单，可以构造一个很简单的网络就可以实现视频动作识别，如下图所示是3D卷积的示意图：\n",
    "\n",
    "![image.png](./img/c3d_0.png)\n",
    "\n",
    "a)中，一张图片进行了2D卷积， b)中，对视频进行2D卷积，将多个帧视作多个通道， c)中，对视频进行3D卷积，将时序信息加入输入信号中。\n",
    "\n",
    "ab中，output都是一张二维特征图，所以无论是输入是否有时间信息，输出都是一张二维的特征图，2D卷积失去了时序信息。只有3D卷积在输出时，保留了时序信息。2D和3D池化操作同样有这样的问题。\n",
    "\n",
    "如下图所示是一种[C3D](https://www.cv-foundation.org/openaccess/content_iccv_2015/papers/Tran_Learning_Spatiotemporal_Features_ICCV_2015_paper.pdf)网络的变种：（如需阅读原文描述，请查看I3D论文 2.2 节）\n",
    "\n",
    "![image.png](./img/c3d_1.png)\n",
    "\n",
    "C3D结构，包括8个卷积层，5个最大池化层以及2个全连接层，最后是softmax输出层。\n",
    "\n",
    "所有的3D卷积核为$ 3 × 3 × 3$ 步长为1，使用SGD，初始学习率为0.003，每150k个迭代，除以2。优化在1.9M个迭代的时候结束，大约13epoch。\n",
    "\n",
    "数据处理时，视频抽帧定义大小为：$ c × l × h × w$，$c$为通道数量，$l$为帧的数量，$h$为帧画面的高度，$w$为帧画面的宽度。3D卷积核和池化核的大小为$ d × k × k$，$d$是核的时间深度，$k$是核的空间大小。网络的输入为视频的抽帧，预测出的是类别标签。所有的视频帧画面都调整大小为$ 128 × 171 $，几乎将UCF-101数据集中的帧调整为一半大小。视频被分为不重复的16帧画面，这些画面将作为模型网络的输入。最后对帧画面的大小进行裁剪，输入的数据为$16 × 112 × 112 $"
   ]
  },
  {
   "cell_type": "markdown",
   "metadata": {},
   "source": [
    "### C3D模型训练\n",
    "接下来，我们将对C3D模型进行训练，训练过程分为：数据预处理以及模型训练。在此次训练中，我们使用的数据集为UCF-101，由于C3D模型的输入是视频的每帧图片，因此我们需要对数据集的视频进行抽帧，也就是将视频转换为图片，然后将图片数据传入模型之中，进行训练。\n",
    "\n",
    "在本案例中，我们随机抽取了UCF-101数据集的一部分进行训练的演示，感兴趣的同学可以下载完整的UCF-101数据集进行训练。\n",
    "\n",
    "[UCF-101下载](https://www.crcv.ucf.edu/data/UCF101.php)\n",
    "\n",
    "数据集存储在目录` dataset_subset`下\n",
    "\n",
    "如下代码是使用cv2库进行视频文件到图片文件的转换"
   ]
  },
  {
   "cell_type": "code",
   "execution_count": 4,
   "metadata": {},
   "outputs": [],
   "source": [
    "import cv2\n",
    "import os\n",
    "# 视频数据集存储位置\n",
    "video_path = './dataset_subset/'\n",
    "# 生成的图像数据集存储位置\n",
    "save_path = './dataset/'\n",
    "# 如果文件路径不存在则创建路径\n",
    "if os.path.exists(save_path) == False:\n",
    "    os.mkdir(save_path)"
   ]
  },
  {
   "cell_type": "code",
   "execution_count": 5,
   "metadata": {},
   "outputs": [],
   "source": [
    "# 获取动作列表\n",
    "action_list = os.listdir(video_path)\n",
    "# 遍历所有动作\n",
    "for action in action_list:\n",
    "    if action.startswith(\".\")==False:\n",
    "        if not os.path.exists(save_path+action):\n",
    "            os.mkdir(save_path+action)\n",
    "        video_list = os.listdir(video_path+action)\n",
    "        # 遍历所有视频\n",
    "        for video in video_list:\n",
    "            prefix = video.split('.')[0]\n",
    "            if not os.path.exists(save_path+action+'/'+prefix):\n",
    "                os.mkdir(save_path+action+'/'+prefix)\n",
    "            save_name = save_path + action + '/' + prefix + '/'\n",
    "            video_name = video_path+action+'/'+video\n",
    "            # 读取视频文件\n",
    "            # cap为视频的帧\n",
    "            cap = cv2.VideoCapture(video_name)\n",
    "            # fps为帧率\n",
    "            fps = int(cap.get(cv2.CAP_PROP_FRAME_COUNT))\n",
    "            fps_count = 0\n",
    "            for i in range(fps):\n",
    "                ret, frame = cap.read()\n",
    "                if ret:\n",
    "                    # 将帧画面写入图片文件中\n",
    "                    cv2.imwrite(save_name+str(10000+fps_count)+'.jpg',frame)\n",
    "                    fps_count += 1"
   ]
  },
  {
   "cell_type": "markdown",
   "metadata": {},
   "source": [
    "此时，视频逐帧转换成的图片数据已经存储起来，为模型训练做准备。\n",
    "\n",
    "### 模型训练\n",
    "首先，我们构建模型结构。\n",
    "\n",
    "C3D模型结构我们之前已经介绍过，这里我们通过`keras`提供的Conv3D，MaxPool3D，ZeroPadding3D等函数进行模型的搭建。"
   ]
  },
  {
   "cell_type": "code",
   "execution_count": 6,
   "metadata": {},
   "outputs": [
    {
     "name": "stderr",
     "output_type": "stream",
     "text": [
      "Using TensorFlow backend.\n",
      "WARNING:tensorflow:From /home/ma-user/anaconda3/envs/TensorFlow-1.13.1/lib/python3.6/site-packages/tensorflow/python/framework/op_def_library.py:263: colocate_with (from tensorflow.python.framework.ops) is deprecated and will be removed in a future version.\n",
      "Instructions for updating:\n",
      "Colocations handled automatically by placer.\n",
      "WARNING:tensorflow:From /home/ma-user/anaconda3/envs/TensorFlow-1.13.1/lib/python3.6/site-packages/keras/backend/tensorflow_backend.py:3445: calling dropout (from tensorflow.python.ops.nn_ops) with keep_prob is deprecated and will be removed in a future version.\n",
      "Instructions for updating:\n",
      "Please use `rate` instead of `keep_prob`. Rate should be set to `rate = 1 - keep_prob`.\n"
     ]
    }
   ],
   "source": [
    "from keras.layers import Dense,Dropout,Conv3D,Input,MaxPool3D,Flatten,Activation, ZeroPadding3D\n",
    "from keras.regularizers import l2\n",
    "from keras.models import Model, Sequential\n",
    "\n",
    "# 输入数据为 112×112 的图片，16帧， 3通道\n",
    "input_shape = (112,112,16,3)\n",
    "# 权重衰减率\n",
    "weight_decay = 0.005\n",
    "# 类型数量，我们使用UCF-101 为数据集，所以为101\n",
    "nb_classes = 101\n",
    "\n",
    "# 构建模型结构\n",
    "inputs = Input(input_shape)\n",
    "\n",
    "x = Conv3D(64,(3,3,3),strides=(1,1,1),padding='same',\n",
    "           activation='relu',kernel_regularizer=l2(weight_decay))(inputs)\n",
    "x = MaxPool3D((2,2,1),strides=(2,2,1),padding='same')(x)\n",
    "\n",
    "x = Conv3D(128,(3,3,3),strides=(1,1,1),padding='same',\n",
    "           activation='relu',kernel_regularizer=l2(weight_decay))(x)\n",
    "x = MaxPool3D((2,2,2),strides=(2,2,2),padding='same')(x)\n",
    "\n",
    "x = Conv3D(128,(3,3,3),strides=(1,1,1),padding='same',\n",
    "           activation='relu',kernel_regularizer=l2(weight_decay))(x)\n",
    "x = MaxPool3D((2,2,2),strides=(2,2,2),padding='same')(x)\n",
    "\n",
    "x = Conv3D(256,(3,3,3),strides=(1,1,1),padding='same',\n",
    "           activation='relu',kernel_regularizer=l2(weight_decay))(x)\n",
    "x = MaxPool3D((2,2,2),strides=(2,2,2),padding='same')(x)\n",
    "\n",
    "x = Conv3D(256, (3, 3, 3), strides=(1, 1, 1), padding='same',\n",
    "           activation='relu',kernel_regularizer=l2(weight_decay))(x)\n",
    "x = MaxPool3D((2, 2, 2), strides=(2, 2, 2), padding='same')(x)\n",
    "\n",
    "x = Flatten()(x)\n",
    "x = Dense(2048,activation='relu',kernel_regularizer=l2(weight_decay))(x)\n",
    "x = Dropout(0.5)(x)\n",
    "x = Dense(2048,activation='relu',kernel_regularizer=l2(weight_decay))(x)\n",
    "x = Dropout(0.5)(x)\n",
    "x = Dense(nb_classes,kernel_regularizer=l2(weight_decay))(x)\n",
    "x = Activation('softmax')(x)\n",
    "\n",
    "model = Model(inputs, x)"
   ]
  },
  {
   "cell_type": "markdown",
   "metadata": {},
   "source": [
    "通过keras提供的`summary()`方法，打印模型结构。可以看到模型的层构建以及各层的输入输出情况。"
   ]
  },
  {
   "cell_type": "code",
   "execution_count": 7,
   "metadata": {},
   "outputs": [
    {
     "name": "stdout",
     "output_type": "stream",
     "text": [
      "_________________________________________________________________\n",
      "Layer (type)                 Output Shape              Param #   \n",
      "=================================================================\n",
      "input_1 (InputLayer)         (None, 112, 112, 16, 3)   0         \n",
      "_________________________________________________________________\n",
      "conv3d_1 (Conv3D)            (None, 112, 112, 16, 64)  5248      \n",
      "_________________________________________________________________\n",
      "max_pooling3d_1 (MaxPooling3 (None, 56, 56, 16, 64)    0         \n",
      "_________________________________________________________________\n",
      "conv3d_2 (Conv3D)            (None, 56, 56, 16, 128)   221312    \n",
      "_________________________________________________________________\n",
      "max_pooling3d_2 (MaxPooling3 (None, 28, 28, 8, 128)    0         \n",
      "_________________________________________________________________\n",
      "conv3d_3 (Conv3D)            (None, 28, 28, 8, 128)    442496    \n",
      "_________________________________________________________________\n",
      "max_pooling3d_3 (MaxPooling3 (None, 14, 14, 4, 128)    0         \n",
      "_________________________________________________________________\n",
      "conv3d_4 (Conv3D)            (None, 14, 14, 4, 256)    884992    \n",
      "_________________________________________________________________\n",
      "max_pooling3d_4 (MaxPooling3 (None, 7, 7, 2, 256)      0         \n",
      "_________________________________________________________________\n",
      "conv3d_5 (Conv3D)            (None, 7, 7, 2, 256)      1769728   \n",
      "_________________________________________________________________\n",
      "max_pooling3d_5 (MaxPooling3 (None, 4, 4, 1, 256)      0         \n",
      "_________________________________________________________________\n",
      "flatten_1 (Flatten)          (None, 4096)              0         \n",
      "_________________________________________________________________\n",
      "dense_1 (Dense)              (None, 2048)              8390656   \n",
      "_________________________________________________________________\n",
      "dropout_1 (Dropout)          (None, 2048)              0         \n",
      "_________________________________________________________________\n",
      "dense_2 (Dense)              (None, 2048)              4196352   \n",
      "_________________________________________________________________\n",
      "dropout_2 (Dropout)          (None, 2048)              0         \n",
      "_________________________________________________________________\n",
      "dense_3 (Dense)              (None, 101)               206949    \n",
      "_________________________________________________________________\n",
      "activation_1 (Activation)    (None, 101)               0         \n",
      "=================================================================\n",
      "Total params: 16,117,733\n",
      "Trainable params: 16,117,733\n",
      "Non-trainable params: 0\n",
      "_________________________________________________________________\n"
     ]
    }
   ],
   "source": [
    "model.summary()"
   ]
  },
  {
   "cell_type": "markdown",
   "metadata": {},
   "source": [
    "通过keras的`input`方法可以查看模型的输入形状，shape分别为`( batch size, width, height, frames, channels) ` 。"
   ]
  },
  {
   "cell_type": "code",
   "execution_count": 8,
   "metadata": {},
   "outputs": [
    {
     "data": {
      "text/plain": [
       "<tf.Tensor 'input_1:0' shape=(?, 112, 112, 16, 3) dtype=float32>"
      ]
     },
     "execution_count": 8,
     "metadata": {},
     "output_type": "execute_result"
    }
   ],
   "source": [
    "model.input"
   ]
  },
  {
   "cell_type": "markdown",
   "metadata": {},
   "source": [
    "可以看到模型的数据处理的维度与图像处理模型有一些差别，多了frames维度，体现出时序关系在视频分析中的影响。\n",
    "\n",
    "接下来，我们开始将图片文件转为训练需要的数据形式。"
   ]
  },
  {
   "cell_type": "code",
   "execution_count": 9,
   "metadata": {},
   "outputs": [],
   "source": [
    "# 引用必要的库\n",
    "from keras.optimizers import SGD,Adam\n",
    "from keras.utils import np_utils\n",
    "\n",
    "import numpy as np\n",
    "import random\n",
    "import cv2\n",
    "\n",
    "import matplotlib.pyplot as plt\n",
    "\n",
    "# 自定义callbacks\n",
    "from schedules import onetenth_4_8_12"
   ]
  },
  {
   "cell_type": "markdown",
   "metadata": {},
   "source": [
    "参数定义"
   ]
  },
  {
   "cell_type": "code",
   "execution_count": 10,
   "metadata": {},
   "outputs": [],
   "source": [
    "img_path = save_path  # 图片文件存储位置\n",
    "results_path = './results'  # 训练结果保存位置\n",
    "if not os.path.exists(results_path):\n",
    "    os.mkdir(results_path)"
   ]
  },
  {
   "cell_type": "markdown",
   "metadata": {},
   "source": [
    "数据集划分，随机抽取4/5 作为训练集，其余为验证集。将文件信息分别存储在`train_list`和`test_list`中，为训练做准备。"
   ]
  },
  {
   "cell_type": "code",
   "execution_count": 11,
   "metadata": {},
   "outputs": [
    {
     "name": "stdout",
     "output_type": "stream",
     "text": [
      "训练集为：\n",
      "['v_Bowling_g04_c04', 'v_Bowling_g05_c07', 'v_Bowling_g03_c06', 'v_Bowling_g04_c03', 'v_Bowling_g01_c07', 'v_Bowling_g05_c01', 'v_Bowling_g05_c06', 'v_Bowling_g06_c06', 'v_Bowling_g06_c04', 'v_Bowling_g06_c02', 'v_Bowling_g06_c07', 'v_Bowling_g03_c07', 'v_Bowling_g05_c03', 'v_Bowling_g06_c05', 'v_Bowling_g05_c05', 'v_Bowling_g04_c02', 'v_Bowling_g03_c05', 'v_Bowling_g02_c01', 'v_Bowling_g06_c01', 'v_Bowling_g06_c03', 'v_Bowling_g05_c04', 'v_Bowling_g05_c02', 'v_Bowling_g02_c04', 'v_Bowling_g02_c02', 'v_Fencing_g13_c04', 'v_Fencing_g08_c03', 'v_Fencing_g11_c01', 'v_Fencing_g11_c04', 'v_Fencing_g10_c03', 'v_Fencing_g10_c01', 'v_Fencing_g13_c03', 'v_Fencing_g12_c05', 'v_Fencing_g12_c02', 'v_Fencing_g10_c04', 'v_Fencing_g13_c01', 'v_Fencing_g11_c05', 'v_Fencing_g08_c04', 'v_Fencing_g12_c04', 'v_Fencing_g10_c05', 'v_Fencing_g13_c02', 'v_Fencing_g09_c03', 'v_Fencing_g14_c03', 'v_Fencing_g09_c05', 'v_Fencing_g11_c02', 'v_Fencing_g09_c02', 'v_Fencing_g15_c01', 'v_Fencing_g10_c02', 'v_Fencing_g14_c04', 'v_ApplyEyeMakeup_g03_c04', 'v_ApplyEyeMakeup_g03_c02', 'v_ApplyEyeMakeup_g01_c05', 'v_ApplyEyeMakeup_g01_c06', 'v_ApplyEyeMakeup_g04_c01', 'v_ApplyEyeMakeup_g05_c03', 'v_ApplyEyeMakeup_g04_c05', 'v_ApplyEyeMakeup_g06_c02', 'v_ApplyEyeMakeup_g06_c01', 'v_ApplyEyeMakeup_g03_c03', 'v_ApplyEyeMakeup_g03_c01', 'v_ApplyEyeMakeup_g02_c04', 'v_ApplyEyeMakeup_g01_c04', 'v_ApplyEyeMakeup_g02_c01', 'v_ApplyEyeMakeup_g05_c02', 'v_ApplyEyeMakeup_g04_c07', 'v_ApplyEyeMakeup_g04_c06', 'v_ApplyEyeMakeup_g05_c07', 'v_ApplyEyeMakeup_g05_c06', 'v_ApplyEyeMakeup_g04_c03', 'v_ApplyEyeMakeup_g05_c01', 'v_ApplyEyeMakeup_g05_c05', 'v_ApplyEyeMakeup_g01_c01', 'v_ApplyEyeMakeup_g01_c03']\n",
      "共72 个视频\n",
      "\n",
      "验证集为：\n",
      "['v_Bowling_g01_c05', 'v_Bowling_g02_c03', 'v_Bowling_g01_c06', 'v_Bowling_g03_c04', 'v_Bowling_g03_c01', 'v_Bowling_g04_c01', 'v_Bowling_g03_c03', 'v_Bowling_g03_c02', 'v_Fencing_g12_c01', 'v_Fencing_g09_c06', 'v_Fencing_g09_c04', 'v_Fencing_g14_c02', 'v_Fencing_g12_c03', 'v_Fencing_g14_c01', 'v_Fencing_g11_c03', 'v_Fencing_g09_c01', 'v_ApplyEyeMakeup_g05_c04', 'v_ApplyEyeMakeup_g03_c05', 'v_ApplyEyeMakeup_g03_c06', 'v_ApplyEyeMakeup_g04_c02', 'v_ApplyEyeMakeup_g01_c02', 'v_ApplyEyeMakeup_g02_c02', 'v_ApplyEyeMakeup_g04_c04', 'v_ApplyEyeMakeup_g02_c03']\n",
      "共24 个视频\n"
     ]
    }
   ],
   "source": [
    "cates = os.listdir(img_path)\n",
    "train_list = []\n",
    "test_list = []\n",
    "# 遍历所有的动作类型\n",
    "for cate in cates:\n",
    "    videos = os.listdir(os.path.join(img_path, cate))\n",
    "    length = len(videos)//5\n",
    "    # 训练集大小，随机取视频文件加入训练集\n",
    "    train= random.sample(videos, length*4)\n",
    "    train_list.extend(train)\n",
    "    # 将余下的视频加入测试集\n",
    "    for video in videos:\n",
    "        if video not in train:\n",
    "            test_list.append(video)\n",
    "print(\"训练集为：\")    \n",
    "print( train_list)\n",
    "print(\"共%d 个视频\\n\"%(len(train_list)))\n",
    "print(\"验证集为：\")            \n",
    "print(test_list)\n",
    "print(\"共%d 个视频\"%(len(test_list)))"
   ]
  },
  {
   "cell_type": "markdown",
   "metadata": {},
   "source": [
    "接下来开始进行模型的训练。\n",
    "\n",
    "首先定义数据读取方法。方法`process_data`中读取一个batch的数据，包含16帧的图片信息的数据，以及数据的标注信息。在读取图片数据时，对图片进行随机裁剪和翻转操作以完成数据增广。"
   ]
  },
  {
   "cell_type": "code",
   "execution_count": 12,
   "metadata": {},
   "outputs": [],
   "source": [
    "def process_data(img_path, file_list,batch_size=16,train=True):\n",
    "    batch = np.zeros((batch_size,16,112,112,3),dtype='float32')\n",
    "    labels = np.zeros(batch_size,dtype='int')\n",
    "    cate_list = os.listdir(img_path)\n",
    "    \n",
    "    def read_classes():\n",
    "        path = \"./classInd.txt\"\n",
    "        with open(path, \"r+\") as f:\n",
    "            lines = f.readlines()\n",
    "        classes = {}\n",
    "        for line in lines:\n",
    "            c_id = line.split()[0]\n",
    "            c_name = line.split()[1]\n",
    "            classes[c_name] =c_id \n",
    "        return classes\n",
    "        \n",
    "    classes_dict = read_classes()\n",
    "    \n",
    "    for file in file_list:\n",
    "        cate = file.split(\"_\")[1]\n",
    "        img_list = os.listdir(os.path.join(img_path, cate, file))\n",
    "        img_list.sort()\n",
    "        batch_img = []\n",
    "        for i in range(batch_size):\n",
    "            path = os.path.join(img_path, cate, file)\n",
    "            label =  int(classes_dict[cate])-1\n",
    "            symbol = len(img_list)//16\n",
    "            if train:\n",
    "                # 随机进行裁剪\n",
    "                crop_x = random.randint(0, 15)\n",
    "                crop_y = random.randint(0, 58)\n",
    "                # 随机进行翻转\n",
    "                is_flip = random.randint(0, 1)\n",
    "                # 以16 帧为单位\n",
    "                for j in range(16):\n",
    "                    img = img_list[symbol + j]\n",
    "                    image = cv2.imread( path + '/' + img)\n",
    "                    image = cv2.cvtColor(image, cv2.COLOR_BGR2RGB)\n",
    "                    image = cv2.resize(image, (171, 128))\n",
    "                    if is_flip == 1:\n",
    "                        image = cv2.flip(image, 1)\n",
    "                    batch[i][j][:][:][:] = image[crop_x:crop_x + 112, crop_y:crop_y + 112, :]\n",
    "                    symbol-=1\n",
    "                    if symbol<0:\n",
    "                        break\n",
    "                labels[i] = label\n",
    "            else:\n",
    "                for j in range(16):\n",
    "                    img = img_list[symbol + j]\n",
    "                    image = cv2.imread( path + '/' + img)\n",
    "                    image = cv2.cvtColor(image, cv2.COLOR_BGR2RGB)\n",
    "                    image = cv2.resize(image, (171, 128))\n",
    "                    batch[i][j][:][:][:] = image[8:120, 30:142, :]\n",
    "                    symbol-=1\n",
    "                    if symbol<0:\n",
    "                        break\n",
    "                labels[i] = label\n",
    "    return batch, labels"
   ]
  },
  {
   "cell_type": "code",
   "execution_count": 13,
   "metadata": {},
   "outputs": [
    {
     "name": "stdout",
     "output_type": "stream",
     "text": [
      "每个batch的形状为：(16, 16, 112, 112, 3)\n",
      "每个label的形状为：(16,)\n"
     ]
    }
   ],
   "source": [
    "batch, labels = process_data(img_path, train_list)\n",
    "\n",
    "print(\"每个batch的形状为：%s\"%(str(batch.shape)))\n",
    "print(\"每个label的形状为：%s\"%(str(labels.shape)))"
   ]
  },
  {
   "cell_type": "markdown",
   "metadata": {},
   "source": [
    "定义data generator， 将数据批次传入训练函数中。"
   ]
  },
  {
   "cell_type": "code",
   "execution_count": 14,
   "metadata": {},
   "outputs": [],
   "source": [
    "def generator_train_batch(train_list, batch_size, num_classes, img_path):\n",
    "    while True:\n",
    "        # 读取一个batch的数据\n",
    "        x_train, x_labels = process_data(img_path, train_list, batch_size=16,train=True)\n",
    "        x = preprocess(x_train)\n",
    "        # 形成input要求的数据格式\n",
    "        y = np_utils.to_categorical(np.array(x_labels), num_classes)\n",
    "        x = np.transpose(x, (0,2,3,1,4))\n",
    "        yield x, y\n",
    "def generator_val_batch(test_list, batch_size, num_classes, img_path):\n",
    "    while True:\n",
    "        # 读取一个batch的数据\n",
    "        y_test,y_labels = process_data(img_path, train_list, batch_size=16,train=False)\n",
    "        x = preprocess(y_test)\n",
    "        # 形成input要求的数据格式\n",
    "        x = np.transpose(x,(0,2,3,1,4))\n",
    "        y = np_utils.to_categorical(np.array(y_labels), num_classes)\n",
    "        yield x, y"
   ]
  },
  {
   "cell_type": "markdown",
   "metadata": {},
   "source": [
    "定义方法`preprocess`， 对函数的输入数据进行图像的标准化处理。"
   ]
  },
  {
   "cell_type": "code",
   "execution_count": 15,
   "metadata": {},
   "outputs": [],
   "source": [
    "def preprocess(inputs):\n",
    "    inputs[..., 0] -= 99.9\n",
    "    inputs[..., 1] -= 92.1\n",
    "    inputs[..., 2] -= 82.6\n",
    "    inputs[..., 0] /= 65.8\n",
    "    inputs[..., 1] /= 62.3\n",
    "    inputs[..., 2] /= 60.3\n",
    "    return inputs"
   ]
  },
  {
   "cell_type": "code",
   "execution_count": 16,
   "metadata": {
    "scrolled": false
   },
   "outputs": [
    {
     "name": "stderr",
     "output_type": "stream",
     "text": [
      "WARNING:tensorflow:From /home/ma-user/anaconda3/envs/TensorFlow-1.13.1/lib/python3.6/site-packages/tensorflow/python/ops/math_ops.py:3066: to_int32 (from tensorflow.python.ops.math_ops) is deprecated and will be removed in a future version.\n",
      "Instructions for updating:\n",
      "Use tf.cast instead.\n"
     ]
    },
    {
     "name": "stdout",
     "output_type": "stream",
     "text": [
      "Epoch 1/1\n",
      "18/18 [==============================] - 232s 13s/step - loss: 28.6410 - acc: 0.9236 - val_loss: 27.7856 - val_acc: 1.0000\n"
     ]
    }
   ],
   "source": [
    "# 类别数量\n",
    "num_classes = 101\n",
    "# batch大小\n",
    "batch_size = 4\n",
    "# epoch数量\n",
    "epochs = 1\n",
    "# 学习率大小\n",
    "lr = 0.005\n",
    "# 优化器定义\n",
    "sgd = SGD(lr=lr, momentum=0.9, nesterov=True)\n",
    "model.compile(loss='categorical_crossentropy', optimizer=sgd, metrics=['accuracy'])\n",
    "# 开始训练\n",
    "history = model.fit_generator(generator_train_batch(train_list, batch_size, num_classes,img_path),\n",
    "                              steps_per_epoch= len(train_list) // batch_size,\n",
    "                              epochs=epochs,\n",
    "                              callbacks=[onetenth_4_8_12(lr)],\n",
    "                              validation_data=generator_val_batch(test_list, batch_size,num_classes,img_path),\n",
    "                              validation_steps= len(test_list) // batch_size,\n",
    "                              verbose=1)\n",
    "# 对训练结果进行保存\n",
    "model.save_weights(os.path.join(results_path, 'weights_c3d.h5'))"
   ]
  },
  {
   "cell_type": "markdown",
   "metadata": {},
   "source": [
    "## 模型测试\n",
    "接下来我们将训练之后得到的模型进行测试。随机在UCF-101中选择一个视频文件作为测试数据，然后对视频进行取帧，每16帧画面传入模型进行一次动作预测，并且将动作预测以及预测百分比打印在画面中并进行视频播放。"
   ]
  },
  {
   "cell_type": "markdown",
   "metadata": {},
   "source": [
    "首先，引入相关的库。"
   ]
  },
  {
   "cell_type": "code",
   "execution_count": 17,
   "metadata": {},
   "outputs": [],
   "source": [
    "from IPython.display import clear_output, Image, display, HTML\n",
    "import time\n",
    "import cv2\n",
    "import base64\n",
    "import numpy as np"
   ]
  },
  {
   "cell_type": "markdown",
   "metadata": {},
   "source": [
    "构建模型结构并且加载权重。"
   ]
  },
  {
   "cell_type": "code",
   "execution_count": 18,
   "metadata": {},
   "outputs": [],
   "source": [
    "from models import c3d_model\n",
    "model = c3d_model()\n",
    "model.load_weights(os.path.join(results_path, 'weights_c3d.h5'), by_name=True)  # 加载刚训练的模型"
   ]
  },
  {
   "cell_type": "markdown",
   "metadata": {},
   "source": [
    "定义函数arrayshow，进行图片变量的编码格式转换。"
   ]
  },
  {
   "cell_type": "code",
   "execution_count": 19,
   "metadata": {},
   "outputs": [],
   "source": [
    "def arrayShow(img):\n",
    "    _,ret = cv2.imencode('.jpg', img) \n",
    "    return Image(data=ret) "
   ]
  },
  {
   "cell_type": "markdown",
   "metadata": {},
   "source": [
    "进行视频的预处理以及预测，将预测结果打印到画面中，最后进行播放。"
   ]
  },
  {
   "cell_type": "code",
   "execution_count": 20,
   "metadata": {},
   "outputs": [
    {
     "data": {
      "image/png": "[encoded data removed]",
      "text/plain": [
       "<IPython.core.display.Image object>"
      ]
     },
     "metadata": {},
     "output_type": "display_data"
    }
   ],
   "source": [
    "# 加载所有的类别和编号\n",
    "with open('./ucfTrainTestlist/classInd.txt', 'r') as f:\n",
    "    class_names = f.readlines()\n",
    "    f.close()\n",
    "# 读取视频文件\n",
    "video = './videos/v_Punch_g03_c01.avi'\n",
    "cap = cv2.VideoCapture(video)\n",
    "clip = []\n",
    "# 将视频画面传入模型\n",
    "while True:\n",
    "    try:\n",
    "        clear_output(wait=True)\n",
    "        ret, frame = cap.read()\n",
    "        if ret:\n",
    "            tmp = cv2.cvtColor(frame, cv2.COLOR_BGR2RGB)\n",
    "            clip.append(cv2.resize(tmp, (171, 128)))\n",
    "            # 每16帧进行一次预测\n",
    "            if len(clip) == 16:\n",
    "                inputs = np.array(clip).astype(np.float32)\n",
    "                inputs = np.expand_dims(inputs, axis=0)\n",
    "                inputs[..., 0] -= 99.9\n",
    "                inputs[..., 1] -= 92.1\n",
    "                inputs[..., 2] -= 82.6\n",
    "                inputs[..., 0] /= 65.8\n",
    "                inputs[..., 1] /= 62.3\n",
    "                inputs[..., 2] /= 60.3\n",
    "                inputs = inputs[:,:,8:120,30:142,:]\n",
    "                inputs = np.transpose(inputs, (0, 2, 3, 1, 4))\n",
    "                # 获得预测结果\n",
    "                pred = model.predict(inputs)\n",
    "                label = np.argmax(pred[0])\n",
    "                # 将预测结果绘制到画面中\n",
    "                cv2.putText(frame, class_names[label].split(' ')[-1].strip(), (20, 20),\n",
    "                            cv2.FONT_HERSHEY_SIMPLEX, 0.6,\n",
    "                            (0, 0, 255), 1)\n",
    "                cv2.putText(frame, \"prob: %.4f\" % pred[0][label], (20, 40),\n",
    "                            cv2.FONT_HERSHEY_SIMPLEX, 0.6,\n",
    "                            (0, 0, 255), 1)\n",
    "                clip.pop(0)\n",
    "            # 播放预测后的视频    \n",
    "            lines, columns, _ = frame.shape\n",
    "            frame = cv2.resize(frame, (int(columns), int(lines)))\n",
    "            img = arrayShow(frame)\n",
    "            display(img)\n",
    "            time.sleep(0.02)\n",
    "        else:\n",
    "            break\n",
    "    except:\n",
    "        print(0)\n",
    "cap.release()"
   ]
  },
  {
   "cell_type": "markdown",
   "metadata": {},
   "source": [
    "## I3D 模型"
   ]
  },
  {
   "cell_type": "markdown",
   "metadata": {},
   "source": [
    "在之前我们简单介绍了I3D模型，[I3D官方github库](https://github.com/deepmind/kinetics-i3d)提供了在Kinetics上预训练的模型和预测代码，接下来我们将体验I3D模型如何对视频进行预测。"
   ]
  },
  {
   "cell_type": "markdown",
   "metadata": {},
   "source": [
    "首先，引入相关的包"
   ]
  },
  {
   "cell_type": "code",
   "execution_count": 21,
   "metadata": {},
   "outputs": [
    {
     "name": "stdout",
     "output_type": "stream",
     "text": [
      "\n",
      "WARNING: The TensorFlow contrib module will not be included in TensorFlow 2.0.\n",
      "For more information, please see:\n",
      "  * https://github.com/tensorflow/community/blob/master/rfcs/20180907-contrib-sunset.md\n",
      "  * https://github.com/tensorflow/addons\n",
      "If you depend on functionality not listed there, please file an issue.\n",
      "\n"
     ]
    }
   ],
   "source": [
    "import numpy as np\n",
    "import tensorflow as tf\n",
    "\n",
    "import i3d"
   ]
  },
  {
   "cell_type": "markdown",
   "metadata": {},
   "source": [
    "进行参数的定义"
   ]
  },
  {
   "cell_type": "code",
   "execution_count": 22,
   "metadata": {},
   "outputs": [],
   "source": [
    "# 输入图片大小\n",
    "_IMAGE_SIZE = 224\n",
    "#  视频的帧数\n",
    "_SAMPLE_VIDEO_FRAMES = 79\n",
    "\n",
    "# 输入数据包括两部分：RGB和光流\n",
    "# RGB和光流数据已经经过提前计算\n",
    "_SAMPLE_PATHS = {\n",
    "    'rgb': 'data/v_CricketShot_g04_c01_rgb.npy',\n",
    "    'flow': 'data/v_CricketShot_g04_c01_flow.npy',\n",
    "}\n",
    "# 提供了多种可以选择的预训练权重\n",
    "# 其中，imagenet系列模型从ImageNet的2D权重中拓展而来，其余为视频数据下的预训练权重\n",
    "_CHECKPOINT_PATHS = {\n",
    "    'rgb': 'data/checkpoints/rgb_scratch/model.ckpt',\n",
    "    'flow': 'data/checkpoints/flow_scratch/model.ckpt',\n",
    "    'rgb_imagenet': 'data/checkpoints/rgb_imagenet/model.ckpt',\n",
    "    'flow_imagenet': 'data/checkpoints/flow_imagenet/model.ckpt',\n",
    "}\n",
    "# 记录类别文件\n",
    "_LABEL_MAP_PATH = 'data/label_map.txt'\n",
    "# 类别数量为400\n",
    "NUM_CLASSES = 400"
   ]
  },
  {
   "cell_type": "markdown",
   "metadata": {},
   "source": [
    "定义参数：\n",
    "- imagenet_pretrained ：如果为`True`，则调用预训练权重，如果为`False`，则调用ImageNet转成的权重"
   ]
  },
  {
   "cell_type": "code",
   "execution_count": 23,
   "metadata": {},
   "outputs": [],
   "source": [
    "imagenet_pretrained = True"
   ]
  },
  {
   "cell_type": "code",
   "execution_count": 24,
   "metadata": {},
   "outputs": [],
   "source": [
    "# 加载动作类型\n",
    "kinetics_classes = [x.strip() for x in open(_LABEL_MAP_PATH)]\n",
    "tf.logging.set_verbosity(tf.logging.INFO)"
   ]
  },
  {
   "cell_type": "markdown",
   "metadata": {},
   "source": [
    "构建RGB部分模型"
   ]
  },
  {
   "cell_type": "code",
   "execution_count": 25,
   "metadata": {},
   "outputs": [],
   "source": [
    "rgb_input = tf.placeholder(tf.float32, shape=(1, _SAMPLE_VIDEO_FRAMES, _IMAGE_SIZE, _IMAGE_SIZE, 3))\n",
    "\n",
    "with tf.variable_scope('RGB'):\n",
    "    rgb_model = i3d.InceptionI3d(NUM_CLASSES, spatial_squeeze=True, final_endpoint='Logits')\n",
    "    rgb_logits, _ = rgb_model(rgb_input, is_training=False, dropout_keep_prob=1.0)\n",
    "\n",
    "rgb_variable_map = {}\n",
    "for variable in tf.global_variables():\n",
    "    if variable.name.split('/')[0] == 'RGB':\n",
    "        rgb_variable_map[variable.name.replace(':0', '')] = variable\n",
    "        \n",
    "rgb_saver = tf.train.Saver(var_list=rgb_variable_map, reshape=True)"
   ]
  },
  {
   "cell_type": "markdown",
   "metadata": {},
   "source": [
    "构建光流部分模型"
   ]
  },
  {
   "cell_type": "code",
   "execution_count": 26,
   "metadata": {},
   "outputs": [],
   "source": [
    "flow_input = tf.placeholder(tf.float32,shape=(1, _SAMPLE_VIDEO_FRAMES, _IMAGE_SIZE, _IMAGE_SIZE, 2))\n",
    "\n",
    "with tf.variable_scope('Flow'):\n",
    "    flow_model = i3d.InceptionI3d(NUM_CLASSES, spatial_squeeze=True, final_endpoint='Logits')\n",
    "    flow_logits, _ = flow_model(flow_input, is_training=False, dropout_keep_prob=1.0)\n",
    "flow_variable_map = {}\n",
    "for variable in tf.global_variables():\n",
    "    if variable.name.split('/')[0] == 'Flow':\n",
    "        flow_variable_map[variable.name.replace(':0', '')] = variable\n",
    "flow_saver = tf.train.Saver(var_list=flow_variable_map, reshape=True)    "
   ]
  },
  {
   "cell_type": "markdown",
   "metadata": {},
   "source": [
    "将模型联合，成为完整的I3D模型"
   ]
  },
  {
   "cell_type": "code",
   "execution_count": 27,
   "metadata": {},
   "outputs": [],
   "source": [
    "model_logits = rgb_logits + flow_logits\n",
    "model_predictions = tf.nn.softmax(model_logits)"
   ]
  },
  {
   "cell_type": "markdown",
   "metadata": {},
   "source": [
    "开始模型预测,获得视频动作预测结果。\n",
    "预测数据为开篇提供的RGB和光流数据：\n",
    "\n",
    "![See videos/v_CricketShot_g04_c01_rgb.gif](./img/v_CricketShot_g04_c01_rgb.gif)\n",
    "\n",
    "![See videos/v_CricketShot_g04_c01_flow.gif](./img/v_CricketShot_g04_c01_flow.gif)"
   ]
  },
  {
   "cell_type": "code",
   "execution_count": 44,
   "metadata": {},
   "outputs": [
    {
     "name": "stdout",
     "output_type": "stream",
     "text": [
      "WARNING:tensorflow:From /home/ma-user/anaconda3/envs/TensorFlow-1.13.1/lib/python3.6/site-packages/tensorflow/python/training/saver.py:1266: checkpoint_exists (from tensorflow.python.training.checkpoint_management) is deprecated and will be removed in a future version.\n",
      "Instructions for updating:\n",
      "Use standard file APIs to check for files with this prefix.\n",
      "INFO:tensorflow:Restoring parameters from data/checkpoints/rgb_imagenet/model.ckpt\n",
      "INFO:tensorflow:RGB checkpoint restored\n",
      "INFO:tensorflow:RGB data loaded, shape=(1, 79, 224, 224, 3)\n",
      "INFO:tensorflow:Restoring parameters from data/checkpoints/flow_imagenet/model.ckpt\n",
      "INFO:tensorflow:Flow checkpoint restored\n",
      "INFO:tensorflow:Flow data loaded, shape=(1, 79, 224, 224, 2)\n",
      "Norm of logits: 138.468689\n",
      "\n",
      "Top classes and probabilities\n",
      "1.0 41.813683 playing cricket\n",
      "1.497162e-09 21.493988 hurling (sport)\n",
      "3.8430797e-10 20.134106 catching or throwing baseball\n",
      "1.5492213e-10 19.225584 catching or throwing softball\n",
      "1.1360078e-10 18.915352 hitting baseball\n",
      "8.8011216e-11 18.660126 playing tennis\n",
      "2.4415511e-11 17.37788 playing kickball\n",
      "1.1531971e-11 16.627785 playing squash or racquetball\n",
      "6.131901e-12 15.996165 shooting goal (soccer)\n",
      "4.3917357e-12 15.662386 hammer throw\n",
      "2.2134141e-12 14.977198 golf putting\n",
      "1.6307001e-12 14.671671 throwing discus\n",
      "1.5456072e-12 14.618078 javelin throw\n",
      "7.669003e-13 13.917263 pumping fist\n",
      "5.1929094e-13 13.527371 shot put\n",
      "4.2681014e-13 13.331246 celebrating\n",
      "2.7205305e-13 12.880903 applauding\n",
      "1.835698e-13 12.487501 throwing ball\n",
      "1.6134542e-13 12.358454 dodgeball\n",
      "1.1388395e-13 12.010086 tap dancing\n"
     ]
    }
   ],
   "source": [
    "with tf.Session() as sess:\n",
    "    feed_dict = {}\n",
    "    \n",
    "    if imagenet_pretrained:\n",
    "        rgb_saver.restore(sess, _CHECKPOINT_PATHS['rgb_imagenet'])\n",
    "    else:\n",
    "        rgb_saver.restore(sess, _CHECKPOINT_PATHS['rgb'])\n",
    "        \n",
    "    tf.logging.info('RGB checkpoint restored')\n",
    "    rgb_sample = np.load(_SAMPLE_PATHS['rgb'])\n",
    "    tf.logging.info('RGB data loaded, shape=%s', str(rgb_sample.shape))\n",
    "    feed_dict[rgb_input] = rgb_sample\n",
    "    \n",
    "    if imagenet_pretrained:\n",
    "        flow_saver.restore(sess, _CHECKPOINT_PATHS['flow_imagenet'])\n",
    "    else:\n",
    "        flow_saver.restore(sess, _CHECKPOINT_PATHS['flow'])\n",
    "        \n",
    "    tf.logging.info('Flow checkpoint restored')\n",
    "    flow_sample = np.load(_SAMPLE_PATHS['flow'])\n",
    "    tf.logging.info('Flow data loaded, shape=%s', str(flow_sample.shape))\n",
    "    feed_dict[flow_input] = flow_sample\n",
    "\n",
    "    out_logits, out_predictions = sess.run(\n",
    "        [model_logits, model_predictions],\n",
    "        feed_dict=feed_dict)\n",
    "\n",
    "    out_logits = out_logits[0]\n",
    "    out_predictions = out_predictions[0]\n",
    "    sorted_indices = np.argsort(out_predictions)[::-1]\n",
    "\n",
    "    print('Norm of logits: %f' % np.linalg.norm(out_logits))\n",
    "    print('\\nTop classes and probabilities')\n",
    "    for index in sorted_indices[:20]:\n",
    "        print(out_predictions[index], out_logits[index], kinetics_classes[index])"
   ]
  }
 ],
 "metadata": {
  "kernelspec": {
   "display_name": "TensorFlow-1.13.1",
   "language": "python",
   "name": "tensorflow-1.13.1"
  },
  "language_info": {
   "codemirror_mode": {
    "name": "ipython",
    "version": 3
   },
   "file_extension": ".py",
   "mimetype": "text/x-python",
   "name": "python",
   "nbconvert_exporter": "python",
   "pygments_lexer": "ipython3",
   "version": "3.6.4"
  },
  "toc": {
   "base_numbering": 1,
   "nav_menu": {},
   "number_sections": true,
   "sideBar": true,
   "skip_h1_title": false,
   "title_cell": "Table of Contents",
   "title_sidebar": "Contents",
   "toc_cell": false,
   "toc_position": {},
   "toc_section_display": true,
   "toc_window_display": false
  }
 },
 "nbformat": 4,
 "nbformat_minor": 2
}
